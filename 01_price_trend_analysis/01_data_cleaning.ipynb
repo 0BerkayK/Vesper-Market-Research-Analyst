{
 "cells": [
  {
   "cell_type": "markdown",
   "id": "8aa87615-4131-4636-8712-3c36c76cdddc",
   "metadata": {},
   "source": [
    "# Data Cleaning – Dairy Prices"
   ]
  },
  {
   "cell_type": "code",
   "execution_count": 1,
   "id": "51179dbb-533e-4165-a398-727364805ce2",
   "metadata": {},
   "outputs": [],
   "source": [
    "import pandas as pd\n",
    "import matplotlib.pyplot as plt\n",
    "import seaborn as sns"
   ]
  },
  {
   "cell_type": "code",
   "execution_count": 2,
   "id": "34e17991-0283-4eac-9d06-e7f2c4dd8c4a",
   "metadata": {},
   "outputs": [],
   "source": [
    "# Load the dataset\n",
    "df = pd.read_csv(\"../data/dairy_prices.csv\", parse_dates=['Date'])"
   ]
  },
  {
   "cell_type": "code",
   "execution_count": 4,
   "id": "567afa3c-f59c-4911-9f0c-65ab708b548e",
   "metadata": {},
   "outputs": [
    {
     "name": "stdout",
     "output_type": "stream",
     "text": [
      "        Date      Country     Product  Price_EUR_per_kg\n",
      "0 2022-01-01  Netherlands  Whole Milk              0.80\n",
      "1 2022-01-01  Netherlands   Skim Milk              0.64\n",
      "2 2022-01-01  Netherlands      Cheese              1.19\n",
      "3 2022-01-01  Netherlands      Butter              1.51\n",
      "4 2022-01-01      Germany  Whole Milk              0.68\n"
     ]
    }
   ],
   "source": [
    "# Preview the dataset\n",
    "print(df.head())"
   ]
  },
  {
   "cell_type": "code",
   "execution_count": 5,
   "id": "341d263a-2772-46e2-881c-f5fd4e67d87e",
   "metadata": {},
   "outputs": [
    {
     "name": "stdout",
     "output_type": "stream",
     "text": [
      "\n",
      "Dataset Info:\n",
      "<class 'pandas.core.frame.DataFrame'>\n",
      "RangeIndex: 720 entries, 0 to 719\n",
      "Data columns (total 4 columns):\n",
      " #   Column            Non-Null Count  Dtype         \n",
      "---  ------            --------------  -----         \n",
      " 0   Date              720 non-null    datetime64[ns]\n",
      " 1   Country           720 non-null    object        \n",
      " 2   Product           720 non-null    object        \n",
      " 3   Price_EUR_per_kg  720 non-null    float64       \n",
      "dtypes: datetime64[ns](1), float64(1), object(2)\n",
      "memory usage: 22.6+ KB\n",
      "None\n"
     ]
    }
   ],
   "source": [
    "# Basic info\n",
    "print(\"\\nDataset Info:\")\n",
    "print(df.info())"
   ]
  },
  {
   "cell_type": "code",
   "execution_count": 6,
   "id": "f08bed90-f759-4940-94d9-616b6208b82f",
   "metadata": {},
   "outputs": [
    {
     "name": "stdout",
     "output_type": "stream",
     "text": [
      "\n",
      "Summary statistics:\n",
      "                      Date  Price_EUR_per_kg\n",
      "count                  720        720.000000\n",
      "mean   2023-06-16 18:40:00          1.025750\n",
      "min    2022-01-01 00:00:00          0.510000\n",
      "25%    2022-09-23 12:00:00          0.700000\n",
      "50%    2023-06-16 00:00:00          0.955000\n",
      "75%    2024-03-08 18:00:00          1.332500\n",
      "max    2024-12-01 00:00:00          1.620000\n",
      "std                    NaN          0.345673\n"
     ]
    }
   ],
   "source": [
    "# Summary statistics\n",
    "print(\"\\nSummary statistics:\")\n",
    "print(df.describe())"
   ]
  },
  {
   "cell_type": "code",
   "execution_count": 7,
   "id": "067944c2-9042-452a-b88e-85e5a6133482",
   "metadata": {},
   "outputs": [
    {
     "name": "stdout",
     "output_type": "stream",
     "text": [
      "\n",
      "Missing values:\n",
      "Date                0\n",
      "Country             0\n",
      "Product             0\n",
      "Price_EUR_per_kg    0\n",
      "dtype: int64\n"
     ]
    }
   ],
   "source": [
    "# Missing values\n",
    "print(\"\\nMissing values:\")\n",
    "print(df.isnull().sum())"
   ]
  },
  {
   "cell_type": "code",
   "execution_count": 8,
   "id": "61f1195e-d192-47ff-b6b6-bb401fd52ff6",
   "metadata": {},
   "outputs": [],
   "source": [
    "# Remove missing and invalid price rows\n",
    "df = df.dropna()\n",
    "df = df[df['Price_EUR_per_kg'] > 0]"
   ]
  },
  {
   "cell_type": "code",
   "execution_count": 9,
   "id": "edbbe4e5-9ba4-4453-82df-0c7e5b866feb",
   "metadata": {},
   "outputs": [],
   "source": [
    "# Extract date features\n",
    "df['Year'] = df['Date'].dt.year\n",
    "df['Month'] = df['Date'].dt.month\n",
    "df['Quarter'] = df['Date'].dt.to_period('Q')"
   ]
  },
  {
   "cell_type": "code",
   "execution_count": 10,
   "id": "5c131a9a-1d37-4a6d-81e1-31ac5f9fa886",
   "metadata": {},
   "outputs": [],
   "source": [
    "# Save cleaned data\n",
    "df.to_csv(\"../data/dairy_prices_cleaned.csv\", index=False)"
   ]
  },
  {
   "cell_type": "code",
   "execution_count": 13,
   "id": "6bf5bac8-0c83-4b50-9960-bebd8a46a98a",
   "metadata": {},
   "outputs": [
    {
     "name": "stdout",
     "output_type": "stream",
     "text": [
      "          Date      Country     Product  Price_EUR_per_kg  Year  Month Quarter\n",
      "0   2022-01-01  Netherlands  Whole Milk              0.80  2022      1  2022Q1\n",
      "1   2022-01-01  Netherlands   Skim Milk              0.64  2022      1  2022Q1\n",
      "2   2022-01-01  Netherlands      Cheese              1.19  2022      1  2022Q1\n",
      "3   2022-01-01  Netherlands      Butter              1.51  2022      1  2022Q1\n",
      "4   2022-01-01      Germany  Whole Milk              0.68  2022      1  2022Q1\n",
      "..         ...          ...         ...               ...   ...    ...     ...\n",
      "715 2024-12-01       Poland      Butter              1.51  2024     12  2024Q4\n",
      "716 2024-12-01        Italy  Whole Milk              0.76  2024     12  2024Q4\n",
      "717 2024-12-01        Italy   Skim Milk              0.65  2024     12  2024Q4\n",
      "718 2024-12-01        Italy      Cheese              1.19  2024     12  2024Q4\n",
      "719 2024-12-01        Italy      Butter              1.51  2024     12  2024Q4\n",
      "\n",
      "[720 rows x 7 columns]\n"
     ]
    }
   ],
   "source": [
    "print(df)"
   ]
  },
  {
   "cell_type": "code",
   "execution_count": null,
   "id": "7b6b435c-a7a6-45d9-916e-110843bbcb11",
   "metadata": {},
   "outputs": [],
   "source": []
  }
 ],
 "metadata": {
  "kernelspec": {
   "display_name": "Python 3 (ipykernel)",
   "language": "python",
   "name": "python3"
  },
  "language_info": {
   "codemirror_mode": {
    "name": "ipython",
    "version": 3
   },
   "file_extension": ".py",
   "mimetype": "text/x-python",
   "name": "python",
   "nbconvert_exporter": "python",
   "pygments_lexer": "ipython3",
   "version": "3.12.7"
  }
 },
 "nbformat": 4,
 "nbformat_minor": 5
}
